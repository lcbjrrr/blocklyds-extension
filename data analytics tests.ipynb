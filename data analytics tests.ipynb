{
 "cells": [
  {
   "cell_type": "code",
   "execution_count": 1,
   "id": "155310e3-ef87-4901-8856-15ddce5c07da",
   "metadata": {},
   "outputs": [],
   "source": [
    "import pandas as pd\n",
    "\n",
    "df_gender = pd.read_csv('https://raw.githubusercontent.com/lcbjrrr/data/main/gender%20-%20tr.csv')\n",
    "\n",
    "#<xml xmlns=\"https://developers.google.com/blockly/xml\"><variables><variable id=\"A+mY+LQ.p_HGk3cqYum^\">df_gender</variable></variables><block type=\"variables_set\" id=\"C^W{Hso]|Vg|HYlRcDC$\" x=\"16\" y=\"53\"><field name=\"VAR\" id=\"A+mY+LQ.p_HGk3cqYum^\">df_gender</field><value name=\"VALUE\"><block type=\"read_csv\" id=\"J7`r8d5+hFem%a_G}2jm\"><value name=\"read\"><block type=\"text\" id=\"hp_RqMP3xehM]OByx#@w\"><field name=\"TEXT\">https://raw.githubusercontent.com/lcbjrrr/data/main/gender%20-%20tr.csv</field></block></value></block></value></block></xml>"
   ]
  },
  {
   "cell_type": "code",
   "execution_count": 31,
   "id": "8b45b401-b471-4085-99f3-56589b01ac63",
   "metadata": {},
   "outputs": [
    {
     "name": "stdout",
     "output_type": "stream",
     "text": [
      "\u001b[1m1/1\u001b[0m \u001b[32m━━━━━━━━━━━━━━━━━━━━\u001b[0m\u001b[37m\u001b[0m \u001b[1m5s\u001b[0m 5s/step - loss: 18.9396\n",
      "\u001b[1m1/1\u001b[0m \u001b[32m━━━━━━━━━━━━━━━━━━━━\u001b[0m\u001b[37m\u001b[0m \u001b[1m0s\u001b[0m 99ms/step\n"
     ]
    }
   ],
   "source": [
    "from sklearn.metrics import accuracy_score\n",
    "import tensorflow\n",
    "from tensorflow import keras\n",
    "\n",
    "def neuralNetworkModel2(features, labels):\n",
    "  nn = keras.Sequential([\n",
    "    keras.layers.Input(shape=(len(features.T),)),\n",
    "\n",
    "    keras.layers.Dense(1, activation=\"sigmoid\")\n",
    "  ])\n",
    "\n",
    "  nn.compile(optimizer=\"adam\" , loss=\"binary_crossentropy\")\n",
    "  nn.fit(features, labels)\n",
    "  return nn\n",
    "\n",
    "neuralNetworkModel = neuralNetworkModel2(df_gender[[\"H\",\"W\"]], df_gender[\"G\"])\n",
    "neuralNetworkPred = neuralNetworkModel.predict(df_gender[[\"H\",\"W\"]]) > 0.5\n",
    "\n",
    "#<xml xmlns=\"https://developers.google.com/blockly/xml\"><variables><variable id=\"K}r*Wl#yeNPL9g!nF|3k\">neuralNetworkModel</variable><variable id=\"j(B,uV2XJ45!k.!;JXrc\">neuralNetworkPred</variable><variable id=\"A+mY+LQ.p_HGk3cqYum^\">df_gender</variable></variables><block type=\"variables_set\" id=\"_6)@F12ELqL;]I.;8x/9\" x=\"38\" y=\"1\"><field name=\"VAR\" id=\"K}r*Wl#yeNPL9g!nF|3k\">neuralNetworkModel</field><value name=\"VALUE\"><block type=\"neural_network_model\" id=\"sd[mW:O_4CzUg41RBR0r\"><value name=\"label\"><block type=\"select\" id=\"pqD8|w54WXfCelFJC]f2\"><mutation xmlns=\"http://www.w3.org/1999/xhtml\" items=\"1\"></mutation><value name=\"select\"><block type=\"variables_get\" id=\"Iq]eM%af+BS4$(C|$ie[\"><field name=\"VAR\" id=\"A+mY+LQ.p_HGk3cqYum^\">df_gender</field></block></value><value name=\"ADD0\"><block type=\"text\" id=\"d%?v5}{4Rw`e[C5-L2d1\"><field name=\"TEXT\">G</field></block></value></block></value><value name=\"features\"><block type=\"select\" id=\"qyE?Qtb*%*z+{lH`e)(e\"><mutation xmlns=\"http://www.w3.org/1999/xhtml\" items=\"2\"></mutation><value name=\"select\"><block type=\"variables_get\" id=\"M0#0t.^rvhmQp4qJ7+,F\"><field name=\"VAR\" id=\"A+mY+LQ.p_HGk3cqYum^\">df_gender</field></block></value><value name=\"ADD0\"><block type=\"text\" id=\"Kid7p};#LWL|jg%yC5Ow\"><field name=\"TEXT\">H</field></block></value><value name=\"ADD1\"><block type=\"text\" id=\"V.;BId`3Lzbq{d1,h)Gr\"><field name=\"TEXT\">W</field></block></value></block></value></block></value><next><block type=\"variables_set\" id=\"5Zj@CIo#l_[Oa4e+.w#n\"><field name=\"VAR\" id=\"j(B,uV2XJ45!k.!;JXrc\">neuralNetworkPred</field><value name=\"VALUE\"><block type=\"neural_network_predictor\" id=\"%B{)U|R!qv_d6Lyet}%@\"><value name=\"model\"><block type=\"variables_get\" id=\"TBlvz-y/a4Z9%zat+TZh\"><field name=\"VAR\" id=\"K}r*Wl#yeNPL9g!nF|3k\">neuralNetworkModel</field></block></value><value name=\"features\"><block type=\"select\" id=\"v1vaLzA||,;T5F~5AC4D\"><mutation xmlns=\"http://www.w3.org/1999/xhtml\" items=\"2\"></mutation><value name=\"select\"><block type=\"variables_get\" id=\"68a+O!HNGsgX.lF6O]8|\"><field name=\"VAR\" id=\"A+mY+LQ.p_HGk3cqYum^\">df_gender</field></block></value><value name=\"ADD0\"><block type=\"text\" id=\"P2~MuQFoZp%jE-LmM;-D\"><field name=\"TEXT\">H</field></block></value><value name=\"ADD1\"><block type=\"text\" id=\"$+QoLL(A9iXg_Rk)!`]2\"><field name=\"TEXT\">W</field></block></value></block></value></block></value></block></next></block></xml>"
   ]
  },
  {
   "cell_type": "code",
   "execution_count": 32,
   "id": "6c341711-fa75-4f5d-8e9b-6b107b259717",
   "metadata": {},
   "outputs": [
    {
     "name": "stdout",
     "output_type": "stream",
     "text": [
      "\u001b[1m1/1\u001b[0m \u001b[32m━━━━━━━━━━━━━━━━━━━━\u001b[0m\u001b[37m\u001b[0m \u001b[1m0s\u001b[0m 39ms/step\n"
     ]
    },
    {
     "data": {
      "text/plain": [
       "0.375"
      ]
     },
     "execution_count": 32,
     "metadata": {},
     "output_type": "execute_result"
    }
   ],
   "source": [
    "accuracy_score(neuralNetworkModel.predict(df_gender[[\"H\",\"W\"]]) > 0.5, df_gender[\"G\"])\n",
    "\n",
    "#<xml xmlns=\"https://developers.google.com/blockly/xml\"><variables><variable id=\"K}r*Wl#yeNPL9g!nF|3k\">neuralNetworkModel</variable></variables><block type=\"score\" id=\"q-x]4?4CW/rJ%8NIF%`v\" x=\"86\" y=\"95\"><value name=\"model\"><block type=\"variables_get\" id=\"sjLHDy|Pa31^LqqZsVL@\"><field name=\"VAR\" id=\"K}r*Wl#yeNPL9g!nF|3k\">neuralNetworkModel</field></block></value></block></xml>"
   ]
  },
  {
   "cell_type": "code",
   "execution_count": 33,
   "id": "3cc6f909-a573-4c17-9e14-d0ef9a548e28",
   "metadata": {},
   "outputs": [
    {
     "data": {
      "text/plain": [
       "0.375"
      ]
     },
     "execution_count": 33,
     "metadata": {},
     "output_type": "execute_result"
    }
   ],
   "source": [
    "from sklearn.metrics import accuracy_score\n",
    "\n",
    "accuracy_score(neuralNetworkPred, (df_gender[\"G\"]))\n",
    "\n",
    "#<xml xmlns=\"https://developers.google.com/blockly/xml\"><variables><variable id=\"j(B,uV2XJ45!k.!;JXrc\">neuralNetworkPred</variable><variable id=\"A+mY+LQ.p_HGk3cqYum^\">df_gender</variable></variables><block type=\"accuracy\" id=\"DaD?91r7yFK*h(Xe8~0^\" x=\"64\" y=\"93\"><value name=\"predictor\"><block type=\"variables_get\" id=\"=Q?8ldw]u/qfps5n*kry\"><field name=\"VAR\" id=\"j(B,uV2XJ45!k.!;JXrc\">neuralNetworkPred</field></block></value><value name=\"expected_y\"><block type=\"select\" id=\"v1vaLzA||,;T5F~5AC4D\"><mutation xmlns=\"http://www.w3.org/1999/xhtml\" items=\"1\"></mutation><value name=\"select\"><block type=\"variables_get\" id=\"68a+O!HNGsgX.lF6O]8|\"><field name=\"VAR\" id=\"A+mY+LQ.p_HGk3cqYum^\">df_gender</field></block></value><value name=\"ADD0\"><block type=\"text\" id=\"%6i{#*r-t,P|80MW.y_N\"><field name=\"TEXT\">G</field></block></value></block></value></block></xml>"
   ]
  },
  {
   "cell_type": "code",
   "execution_count": 34,
   "id": "d2d1e0a3-efb4-4e63-9384-61b9742023a1",
   "metadata": {},
   "outputs": [
    {
     "data": {
      "text/plain": [
       "array([[3, 4],\n",
       "       [1, 0]])"
      ]
     },
     "execution_count": 34,
     "metadata": {},
     "output_type": "execute_result"
    }
   ],
   "source": [
    "from sklearn.metrics import confusion_matrix\n",
    "\n",
    "confusion_matrix(neuralNetworkPred, (df_gender[\"G\"]))\n",
    "\n",
    "#<xml xmlns=\"https://developers.google.com/blockly/xml\"><variables><variable id=\"j(B,uV2XJ45!k.!;JXrc\">neuralNetworkPred</variable><variable id=\"A+mY+LQ.p_HGk3cqYum^\">df_gender</variable></variables><block type=\"confusionMatrix\" id=\"d_B*SQ4N57:E[zWn2}JP\" x=\"8\" y=\"100\"><value name=\"predictor\"><block type=\"variables_get\" id=\"HC^4udJajD}3f6P056lM\"><field name=\"VAR\" id=\"j(B,uV2XJ45!k.!;JXrc\">neuralNetworkPred</field></block></value><value name=\"true_labels\"><block type=\"select\" id=\"v1vaLzA||,;T5F~5AC4D\"><mutation xmlns=\"http://www.w3.org/1999/xhtml\" items=\"1\"></mutation><value name=\"select\"><block type=\"variables_get\" id=\"68a+O!HNGsgX.lF6O]8|\"><field name=\"VAR\" id=\"A+mY+LQ.p_HGk3cqYum^\">df_gender</field></block></value><value name=\"ADD0\"><block type=\"text\" id=\"%6i{#*r-t,P|80MW.y_N\"><field name=\"TEXT\">G</field></block></value></block></value></block></xml>"
   ]
  },
  {
   "cell_type": "code",
   "execution_count": 35,
   "id": "4eb2c47d-f620-4b79-9ed3-785d5e1d2ebf",
   "metadata": {},
   "outputs": [
    {
     "data": {
      "text/plain": [
       "'              precision    recall  f1-score   support\\n\\n           0       0.43      0.75      0.55         4\\n           1       0.00      0.00      0.00         4\\n\\n    accuracy                           0.38         8\\n   macro avg       0.21      0.38      0.27         8\\nweighted avg       0.21      0.38      0.27         8\\n'"
      ]
     },
     "execution_count": 35,
     "metadata": {},
     "output_type": "execute_result"
    }
   ],
   "source": [
    "from sklearn.metrics import classification_report\n",
    "\n",
    "classification_report((df_gender[\"G\"]), neuralNetworkPred)\n",
    "\n",
    "#<xml xmlns=\"https://developers.google.com/blockly/xml\"><variables><variable id=\"j(B,uV2XJ45!k.!;JXrc\">neuralNetworkPred</variable><variable id=\"A+mY+LQ.p_HGk3cqYum^\">df_gender</variable></variables><block type=\"precisionRecall\" id=\"!YsM/BT:t6YSY@:$k@e}\" x=\"-8\" y=\"169\"><value name=\"predictor\"><block type=\"variables_get\" id=\"WcEPcbuz,rxi;i;b-}Q@\"><field name=\"VAR\" id=\"j(B,uV2XJ45!k.!;JXrc\">neuralNetworkPred</field></block></value><value name=\"true_labels\"><block type=\"select\" id=\"v1vaLzA||,;T5F~5AC4D\"><mutation xmlns=\"http://www.w3.org/1999/xhtml\" items=\"1\"></mutation><value name=\"select\"><block type=\"variables_get\" id=\"68a+O!HNGsgX.lF6O]8|\"><field name=\"VAR\" id=\"A+mY+LQ.p_HGk3cqYum^\">df_gender</field></block></value><value name=\"ADD0\"><block type=\"text\" id=\"%6i{#*r-t,P|80MW.y_N\"><field name=\"TEXT\">G</field></block></value></block></value></block></xml>"
   ]
  },
  {
   "cell_type": "code",
   "execution_count": 36,
   "id": "26e397c5-3f1a-4bf4-9457-e2fc25b07c15",
   "metadata": {},
   "outputs": [
    {
     "data": {
      "text/html": [
       "<div>\n",
       "<style scoped>\n",
       "    .dataframe tbody tr th:only-of-type {\n",
       "        vertical-align: middle;\n",
       "    }\n",
       "\n",
       "    .dataframe tbody tr th {\n",
       "        vertical-align: top;\n",
       "    }\n",
       "\n",
       "    .dataframe thead th {\n",
       "        text-align: right;\n",
       "    }\n",
       "</style>\n",
       "<table border=\"1\" class=\"dataframe\">\n",
       "  <thead>\n",
       "    <tr style=\"text-align: right;\">\n",
       "      <th></th>\n",
       "      <th>G</th>\n",
       "      <th>H</th>\n",
       "      <th>W</th>\n",
       "    </tr>\n",
       "  </thead>\n",
       "  <tbody>\n",
       "    <tr>\n",
       "      <th>G</th>\n",
       "      <td>1.000000</td>\n",
       "      <td>-0.917161</td>\n",
       "      <td>-0.867490</td>\n",
       "    </tr>\n",
       "    <tr>\n",
       "      <th>H</th>\n",
       "      <td>-0.917161</td>\n",
       "      <td>1.000000</td>\n",
       "      <td>0.851404</td>\n",
       "    </tr>\n",
       "    <tr>\n",
       "      <th>W</th>\n",
       "      <td>-0.867490</td>\n",
       "      <td>0.851404</td>\n",
       "      <td>1.000000</td>\n",
       "    </tr>\n",
       "  </tbody>\n",
       "</table>\n",
       "</div>"
      ],
      "text/plain": [
       "          G         H         W\n",
       "G  1.000000 -0.917161 -0.867490\n",
       "H -0.917161  1.000000  0.851404\n",
       "W -0.867490  0.851404  1.000000"
      ]
     },
     "execution_count": 36,
     "metadata": {},
     "output_type": "execute_result"
    }
   ],
   "source": [
    "df_gender.corr()\n",
    "\n",
    "#<xml xmlns=\"https://developers.google.com/blockly/xml\"><variables><variable id=\"A+mY+LQ.p_HGk3cqYum^\">df_gender</variable></variables><block type=\"correlation\" id=\"+A:5rs!SON.#Zx?=~_X8\" x=\"7\" y=\"175\"><value name=\"dataframe\"><block type=\"variables_get\" id=\"#A$sSN$80R6C`9scgh%Q\"><field name=\"VAR\" id=\"A+mY+LQ.p_HGk3cqYum^\">df_gender</field></block></value></block></xml>"
   ]
  },
  {
   "cell_type": "code",
   "execution_count": 37,
   "id": "178e0c43-6ca9-4800-bedf-2f2227014f3b",
   "metadata": {},
   "outputs": [],
   "source": [
    "from sklearn.linear_model import LinearRegression\n",
    "\n",
    "lr_model = LinearRegression().fit(df_gender[[\"H\",\"W\"]], df_gender[\"G\"])\n",
    "lr_predict = lr_model.predict(df_gender[[\"H\",\"W\"]])\n",
    "\n",
    "#<xml xmlns=\"https://developers.google.com/blockly/xml\"><variables><variable id=\"b=JVb?]~{Pd_txno4h5q\">lr_model</variable><variable id=\"Jw@x!CN+:Sj^MgjMr9|,\">lr_predict</variable><variable id=\"A+mY+LQ.p_HGk3cqYum^\">df_gender</variable></variables><block type=\"variables_set\" id=\"{V$[KH9A:ZRjAYr40PjN\" x=\"-44\" y=\"351\"><field name=\"VAR\" id=\"b=JVb?]~{Pd_txno4h5q\">lr_model</field><value name=\"VALUE\"><block type=\"linear_regression_model\" id=\"6IX;hdp(qLuvez+H?/Kw\"><value name=\"label\"><block type=\"select\" id=\"pFzF([-7]!D5#226}*C4\"><mutation xmlns=\"http://www.w3.org/1999/xhtml\" items=\"1\"></mutation><value name=\"select\"><block type=\"variables_get\" id=\"`}D5u,Aw*wMpyk506t2V\"><field name=\"VAR\" id=\"A+mY+LQ.p_HGk3cqYum^\">df_gender</field></block></value><value name=\"ADD0\"><block type=\"text\" id=\"3w;||]y(`sT*6sz}S~P1\"><field name=\"TEXT\">G</field></block></value></block></value><value name=\"features\"><block type=\"select\" id=\"Qf~V-:-v`RNXrZNW%Iu9\"><mutation xmlns=\"http://www.w3.org/1999/xhtml\" items=\"2\"></mutation><value name=\"select\"><block type=\"variables_get\" id=\"hN)+.S,([qHc@mx@i([?\"><field name=\"VAR\" id=\"A+mY+LQ.p_HGk3cqYum^\">df_gender</field></block></value><value name=\"ADD0\"><block type=\"text\" id=\"F|plNHr`-.|v^|PQDkbz\"><field name=\"TEXT\">H</field></block></value><value name=\"ADD1\"><block type=\"text\" id=\"J;`B6Bh$hizvRrm`OOiD\"><field name=\"TEXT\">W</field></block></value></block></value></block></value><next><block type=\"variables_set\" id=\"T?Ywf./sM9)Etu!GzZ$[\"><field name=\"VAR\" id=\"Jw@x!CN+:Sj^MgjMr9|,\">lr_predict</field><value name=\"VALUE\"><block type=\"linear_regression_predictor\" id=\"@Iyr`;Q,2FCvvkb6u!#k\"><value name=\"model\"><block type=\"variables_get\" id=\"=lL^YgdnL}W%gN;5A7Sl\"><field name=\"VAR\" id=\"b=JVb?]~{Pd_txno4h5q\">lr_model</field></block></value><value name=\"features\"><block type=\"select\" id=\".)sReSYU_!]L,p@;XcZf\"><mutation xmlns=\"http://www.w3.org/1999/xhtml\" items=\"2\"></mutation><value name=\"select\"><block type=\"variables_get\" id=\":*B8|760/(Brvt~=cY-p\"><field name=\"VAR\" id=\"A+mY+LQ.p_HGk3cqYum^\">df_gender</field></block></value><value name=\"ADD0\"><block type=\"text\" id=\"9Ff{f]sqan=W21~{1SIK\"><field name=\"TEXT\">H</field></block></value><value name=\"ADD1\"><block type=\"text\" id=\"x~me{pYj!Qe9^v31pp3H\"><field name=\"TEXT\">W</field></block></value></block></value></block></value></block></next></block></xml>"
   ]
  },
  {
   "cell_type": "code",
   "execution_count": 40,
   "id": "bf60103c-e1e9-40d8-9c07-5da79fbb4fee",
   "metadata": {},
   "outputs": [
    {
     "data": {
      "text/plain": [
       "0.8684542497879257"
      ]
     },
     "execution_count": 40,
     "metadata": {},
     "output_type": "execute_result"
    }
   ],
   "source": [
    "from sklearn import metrics\n",
    "\n",
    "metrics.r2_score(df_gender[\"G\"], lr_predict)\n",
    "\n",
    "#<xml xmlns=\"https://developers.google.com/blockly/xml\"><variables><variable id=\"Jw@x!CN+:Sj^MgjMr9|,\">lr_predict</variable><variable id=\"A+mY+LQ.p_HGk3cqYum^\">df_gender</variable></variables><block type=\"r2\" id=\"H]SE@eyIFC{{#=_gn2.I\" x=\"-12\" y=\"648\"><value name=\"model\"><block type=\"variables_get\" id=\"K/_rYDw]w:yDkGcH2MSi\"><field name=\"VAR\" id=\"Jw@x!CN+:Sj^MgjMr9|,\">lr_predict</field></block></value><value name=\"expected_y\"><block type=\"select\" id=\"EYw[!).Ons4IJ#}0sUa*\"><mutation xmlns=\"http://www.w3.org/1999/xhtml\" items=\"1\"></mutation><value name=\"select\"><block type=\"variables_get\" id=\"!D!UV*F3KsiXrt[4Jhsn\"><field name=\"VAR\" id=\"A+mY+LQ.p_HGk3cqYum^\">df_gender</field></block></value><value name=\"ADD0\"><block type=\"text\" id=\"@+{.~.qnqx4uFXBKr@eP\"><field name=\"TEXT\">G</field></block></value></block></value></block></xml>"
   ]
  },
  {
   "cell_type": "code",
   "execution_count": 46,
   "id": "8c480327-43fe-4c76-a6f6-d337703ae635",
   "metadata": {},
   "outputs": [
    {
     "name": "stderr",
     "output_type": "stream",
     "text": [
      "C:\\Users\\vitor\\AppData\\Local\\Temp\\ipykernel_45308\\1780794985.py:5: FutureWarning: pandas.value_counts is deprecated and will be removed in a future version. Use pd.Series(obj).value_counts() instead.\n",
      "  pd.value_counts(pd.cut(teste, bins=[160, 170, 200]))\n"
     ]
    },
    {
     "data": {
      "text/plain": [
       "H\n",
       "(170, 200]    5\n",
       "(160, 170]    3\n",
       "Name: count, dtype: int64"
      ]
     },
     "execution_count": 46,
     "metadata": {},
     "output_type": "execute_result"
    }
   ],
   "source": [
    "import pandas as pd\n",
    "\n",
    "teste = df_gender[\"H\"]\n",
    "\n",
    "pd.value_counts(pd.cut(teste, bins=[160, 170, 200]))\n",
    "\n",
    "#<xml xmlns=\"https://developers.google.com/blockly/xml\"><variables><variable id=\"L[K!kSU/WZ,1o@ifZ(RR\">teste</variable><variable id=\"A+mY+LQ.p_HGk3cqYum^\">df_gender</variable></variables><block type=\"variables_set\" id=\"?cqO!Y6pM:Z?|J8|I:*6\" x=\"-51\" y=\"60\"><field name=\"VAR\" id=\"L[K!kSU/WZ,1o@ifZ(RR\">teste</field><value name=\"VALUE\"><block type=\"select\" id=\"EYw[!).Ons4IJ#}0sUa*\"><mutation xmlns=\"http://www.w3.org/1999/xhtml\" items=\"1\"></mutation><value name=\"select\"><block type=\"variables_get\" id=\"!D!UV*F3KsiXrt[4Jhsn\"><field name=\"VAR\" id=\"A+mY+LQ.p_HGk3cqYum^\">df_gender</field></block></value><value name=\"ADD0\"><block type=\"text\" id=\"@+{.~.qnqx4uFXBKr@eP\"><field name=\"TEXT\">H</field></block></value></block></value></block><block type=\"frequency\" id=\"93|)gK=1H9$1@WzYk@LZ\" x=\"-8\" y=\"170\"><value name=\"x\"><block type=\"variables_get\" id=\"bjXy-aR7fx:mSTE7jobx\"><field name=\"VAR\" id=\"L[K!kSU/WZ,1o@ifZ(RR\">teste</field></block></value><value name=\"bins\"><block type=\"lists_create_with\" id=\"Zv6.P!Ihg4n/3oKcczaB\"><mutation items=\"3\"></mutation><value name=\"ADD0\"><block type=\"math_number\" id=\"DB(p%[[3wZ5%nmTb,B@3\"><field name=\"NUM\">160</field></block></value><value name=\"ADD1\"><block type=\"math_number\" id=\"}!f]xJ13+t`9W)s3?o{)\"><field name=\"NUM\">170</field></block></value><value name=\"ADD2\"><block type=\"math_number\" id=\"mn/BpSxEn`?=/PC#HnJm\"><field name=\"NUM\">200</field></block></value></block></value></block></xml>"
   ]
  },
  {
   "cell_type": "code",
   "execution_count": 48,
   "id": "0cb4f407-c8de-41be-8d39-60cac40111b9",
   "metadata": {},
   "outputs": [
    {
     "data": {
      "text/plain": [
       "count      8.000000\n",
       "mean     174.250000\n",
       "std        7.285014\n",
       "min      163.000000\n",
       "25%      169.500000\n",
       "50%      174.500000\n",
       "75%      179.500000\n",
       "max      184.000000\n",
       "Name: H, dtype: float64"
      ]
     },
     "execution_count": 48,
     "metadata": {},
     "output_type": "execute_result"
    }
   ],
   "source": [
    "import pandas as pd\n",
    "\n",
    "df_gender[\"H\"].describe()\n",
    "\n",
    "#<xml xmlns=\"https://developers.google.com/blockly/xml\"><variables><variable id=\"A+mY+LQ.p_HGk3cqYum^\">df_gender</variable></variables><block type=\"quartis\" id=\"aQt.O-@KB;H]`z#Fdf?[\" x=\"-7\" y=\"51\"><value name=\"x\"><block type=\"select\" id=\"EYw[!).Ons4IJ#}0sUa*\"><mutation xmlns=\"http://www.w3.org/1999/xhtml\" items=\"1\"></mutation><value name=\"select\"><block type=\"variables_get\" id=\"!D!UV*F3KsiXrt[4Jhsn\"><field name=\"VAR\" id=\"A+mY+LQ.p_HGk3cqYum^\">df_gender</field></block></value><value name=\"ADD0\"><block type=\"text\" id=\"@+{.~.qnqx4uFXBKr@eP\"><field name=\"TEXT\">H</field></block></value></block></value></block></xml>"
   ]
  },
  {
   "cell_type": "code",
   "execution_count": 1,
   "id": "14337dcc-f5ba-4456-9d67-682a4a6039f8",
   "metadata": {},
   "outputs": [],
   "source": [
    "teste = [None, None, None]\n",
    "\n",
    "#<xml xmlns=\"https://developers.google.com/blockly/xml\"><variables><variable id=\"wKzl1{,:;%kzJ`ZF*qJD\">teste</variable></variables><block type=\"variables_set\" id=\"6K`na^Lzp#qG;3_/OHNr\" x=\"16\" y=\"53\"><field name=\"VAR\" id=\"wKzl1{,:;%kzJ`ZF*qJD\">teste</field><value name=\"VALUE\"><block type=\"lists_create_with\" id=\"Dpy/L(G96u#2V5A-/3^6\"><mutation items=\"3\"></mutation></block></value></block></xml>"
   ]
  },
  {
   "cell_type": "code",
   "execution_count": null,
   "id": "79947942-5a3c-49d2-a24f-f52a0ba61032",
   "metadata": {},
   "outputs": [],
   "source": [
    "from sklearn.linear_model import LogisticRegression\n",
    "\n",
    "LogisticRegression().fit(pd.DataFrame([None, None, None]).T, None)\n",
    "\n",
    "#<xml xmlns=\"https://developers.google.com/blockly/xml\"><block type=\"logistic_regression_model\" id=\";#E^4w:L.`[.o27|b$?Y\" x=\"1\" y=\"88\"><value name=\"features\"><block type=\"lists_create_with\" id=\"Dpy/L(G96u#2V5A-/3^6\"><mutation items=\"3\"></mutation></block></value></block></xml>"
   ]
  }
 ],
 "metadata": {
  "kernelspec": {
   "display_name": "Python 3 (ipykernel)",
   "language": "python",
   "name": "python3"
  },
  "language_info": {
   "codemirror_mode": {
    "name": "ipython",
    "version": 3
   },
   "file_extension": ".py",
   "mimetype": "text/x-python",
   "name": "python",
   "nbconvert_exporter": "python",
   "pygments_lexer": "ipython3",
   "version": "3.12.7"
  }
 },
 "nbformat": 4,
 "nbformat_minor": 5
}
